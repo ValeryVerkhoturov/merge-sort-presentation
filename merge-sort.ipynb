{
 "cells": [
  {
   "cell_type": "markdown",
   "source": [
    "# Single process"
   ],
   "metadata": {
    "collapsed": false,
    "pycharm": {
     "name": "#%% md\n"
    }
   }
  },
  {
   "cell_type": "code",
   "execution_count": 19,
   "outputs": [
    {
     "name": "stdout",
     "output_type": "stream",
     "text": [
      "[32, 9, 92, 91, 74, 63, 27, 72, 40, 84, 91, 45, 48, 49, 26, 75, 20, 49, 21, 68, 83, 10, 85, 93, 74, 84, 42, 73, 49, 14, 53, 12, 97, 61, 73, 46, 94, 39, 77, 95, 13, 88, 1, 19, 91, 76, 52, 66, 82, 83, 4, 59, 61, 95, 22, 8, 52, 72, 98, 20, 35, 24, 69, 83, 82, 18, 48, 28, 90, 37, 79, 97, 63, 61, 92, 95, 1, 47, 53, 4, 70, 38, 61, 34, 7, 11, 8, 99, 24, 71, 40, 95, 10, 29, 66, 83, 82, 54, 11, 40]\n",
      "[1, 1, 4, 4, 7, 8, 8, 9, 10, 10, 11, 11, 12, 13, 14, 18, 19, 20, 20, 21, 22, 24, 24, 26, 27, 28, 29, 32, 34, 35, 37, 38, 39, 40, 40, 40, 42, 45, 46, 47, 48, 48, 49, 49, 49, 52, 52, 53, 53, 54, 59, 61, 61, 61, 61, 63, 63, 66, 66, 68, 69, 70, 71, 72, 72, 73, 73, 74, 74, 75, 76, 77, 79, 82, 82, 82, 83, 83, 83, 83, 84, 84, 85, 88, 90, 91, 91, 91, 92, 92, 93, 94, 95, 95, 95, 95, 97, 97, 98, 99]\n"
     ]
    }
   ],
   "source": [
    "from random import randint\n",
    "from numbers import Number\n",
    "\n",
    "def merge(arrays: list[list[Number]]) -> list[Number]:\n",
    "    assert len(arrays) == 2\n",
    "    x, y = arrays\n",
    "    index_x = index_y = 0\n",
    "    out = []\n",
    "    while index_x < len(x) and \\\n",
    "            index_y < len(y):\n",
    "        if x[index_x] < y[index_y]:\n",
    "            out.append(x[index_x])\n",
    "            index_x += 1\n",
    "        else:\n",
    "            out.append(y[index_y])\n",
    "            index_y += 1\n",
    "    out += x[index_x:] + y[index_y:]\n",
    "    return out\n",
    "\n",
    "def merge_sort(arr : list[Number]) \\\n",
    "        -> list[Number]:\n",
    "    if len(arr) <= 1:\n",
    "        return arr\n",
    "    if len(arr) == 2:\n",
    "        return arr if arr[0] < arr[1] else [arr[1], arr[0]]\n",
    "    mid = len(arr) // 2\n",
    "    return merge([merge_sort(arr[:mid]), merge_sort(arr[mid:])])\n",
    "\n",
    "\n",
    "def test_merge_sort():\n",
    "    input_array = [randint(1, 100) for _ in range(100)]\n",
    "    print(input_array)\n",
    "    print(merge_sort(input_array))\n",
    "\n",
    "\n",
    "test_merge_sort()"
   ],
   "metadata": {
    "collapsed": false,
    "pycharm": {
     "name": "#%%\n"
    }
   }
  },
  {
   "cell_type": "markdown",
   "source": [
    "# Multiprocessing merge sort"
   ],
   "metadata": {
    "collapsed": false,
    "pycharm": {
     "name": "#%% md\n"
    }
   }
  },
  {
   "cell_type": "code",
   "execution_count": 20,
   "outputs": [
    {
     "name": "stdout",
     "output_type": "stream",
     "text": [
      "[88, 86, 53, 47, 66, 33, 62, 35, 45, 65, 9, 91, 31, 12, 51, 82, 34, 20, 99, 44, 33, 69, 12, 95, 78, 72, 64, 1, 69, 78, 85, 4, 24, 88, 55, 4, 10, 27, 79, 54, 15, 34, 77, 68, 17, 95, 63, 71, 87, 25, 5, 91, 82, 37, 95, 58, 52, 93, 81, 54, 69, 7, 60, 95, 84, 46, 50, 11, 57, 96, 95, 43, 85, 43, 37, 62, 42, 70, 86, 57, 51, 53, 1, 95, 46, 40, 92, 57, 66, 24, 70, 69, 56, 21, 9, 70, 87, 23, 11, 55]\n",
      "[1, 1, 4, 4, 5, 7, 9, 9, 10, 11, 11, 12, 12, 15, 17, 20, 21, 23, 24, 24, 25, 27, 31, 33, 33, 34, 34, 35, 37, 37, 40, 42, 43, 43, 44, 45, 46, 46, 47, 50, 51, 51, 52, 53, 53, 54, 54, 55, 55, 56, 57, 57, 57, 58, 60, 62, 62, 63, 64, 65, 66, 66, 68, 69, 69, 69, 69, 70, 70, 70, 71, 72, 77, 78, 78, 79, 81, 82, 82, 84, 85, 85, 86, 86, 87, 87, 88, 88, 91, 91, 92, 93, 95, 95, 95, 95, 95, 95, 96, 99]\n"
     ]
    }
   ],
   "source": [
    "from merge_sort import merge_sort\n",
    "from merge_sort import merge\n",
    "import multiprocessing\n",
    "import math\n",
    "\n",
    "\n",
    "def parallel_merge_sort(arr: list[Number]) -> list[Number]:\n",
    "    processes = multiprocessing.cpu_count()\n",
    "    with multiprocessing.Pool(processes = processes) as pool:\n",
    "        size = math.ceil(len(arr) / processes)\n",
    "        arr = [arr[i * size:(i + 1) * size] for i in range(processes)]\n",
    "        arr = pool.map(merge_sort, arr)\n",
    "        while len(arr) > 1:\n",
    "            extra = arr.pop() if len(arr) % 2 == 1 else None\n",
    "            arr = [[arr[i], arr[i + 1]] for i in range(0, len(arr), 2)]\n",
    "            arr = pool.map(merge, arr) + ([extra] if extra else [])\n",
    "    return arr[0]\n",
    "\n",
    "\n",
    "def test_parallel_merge_sort():\n",
    "    input_array = [randint(1, 100) for _ in range(100)]\n",
    "    print(input_array)\n",
    "    print(parallel_merge_sort(input_array))\n",
    "\n",
    "\n",
    "test_parallel_merge_sort()"
   ],
   "metadata": {
    "collapsed": false,
    "pycharm": {
     "name": "#%%\n"
    }
   }
  },
  {
   "cell_type": "code",
   "execution_count": 66,
   "outputs": [],
   "source": [],
   "metadata": {
    "collapsed": false,
    "pycharm": {
     "name": "#%%\n"
    }
   }
  },
  {
   "cell_type": "code",
   "execution_count": null,
   "outputs": [],
   "source": [],
   "metadata": {
    "collapsed": false,
    "pycharm": {
     "name": "#%%\n"
    }
   }
  }
 ],
 "metadata": {
  "kernelspec": {
   "display_name": "Python 3",
   "language": "python",
   "name": "python3"
  },
  "language_info": {
   "codemirror_mode": {
    "name": "ipython",
    "version": 2
   },
   "file_extension": ".py",
   "mimetype": "text/x-python",
   "name": "python",
   "nbconvert_exporter": "python",
   "pygments_lexer": "ipython2",
   "version": "2.7.6"
  }
 },
 "nbformat": 4,
 "nbformat_minor": 0
}
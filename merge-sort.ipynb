{
 "cells": [
  {
   "cell_type": "markdown",
   "source": [
    "# Single process"
   ],
   "metadata": {
    "collapsed": false,
    "pycharm": {
     "name": "#%% md\n"
    }
   }
  },
  {
   "cell_type": "code",
   "execution_count": 12,
   "outputs": [
    {
     "name": "stdout",
     "output_type": "stream",
     "text": [
      "CPU times: user 1 µs, sys: 0 ns, total: 1 µs\n",
      "Wall time: 5.25 µs\n"
     ]
    }
   ],
   "source": [
    "from random import randint\n",
    "from numbers import Number\n",
    "\n",
    "def merge(arrays: list[list[Number]]) -> list[Number]:\n",
    "    assert len(arrays) == 2\n",
    "    x, y = arrays\n",
    "    index_x = index_y = 0\n",
    "    out = []\n",
    "    while index_x < len(x) and \\\n",
    "            index_y < len(y):\n",
    "        if x[index_x] < y[index_y]:\n",
    "            out.append(x[index_x])\n",
    "            index_x += 1\n",
    "        else:\n",
    "            out.append(y[index_y])\n",
    "            index_y += 1\n",
    "    out += x[index_x:] + y[index_y:]\n",
    "    return out\n",
    "\n",
    "def merge_sort(arr : list[Number]) \\\n",
    "        -> list[Number]:\n",
    "    if len(arr) <= 1:\n",
    "        return arr\n",
    "    if len(arr) == 2:\n",
    "        return arr if arr[0] < arr[1] else [arr[1], arr[0]]\n",
    "    mid = len(arr) // 2\n",
    "    return merge([merge_sort(arr[:mid]), merge_sort(arr[mid:])])\n",
    "\n",
    "\n",
    "def test_merge_sort():\n",
    "    input_array = [randint(1, 100) for _ in range(10 ** 5)]\n",
    "    merge_sort(input_array)\n",
    "\n",
    "\n",
    "test_merge_sort()"
   ],
   "metadata": {
    "collapsed": false,
    "pycharm": {
     "name": "#%%\n"
    }
   }
  },
  {
   "cell_type": "markdown",
   "source": [
    "# Multiprocessing merge sort"
   ],
   "metadata": {
    "collapsed": false,
    "pycharm": {
     "name": "#%% md\n"
    }
   }
  },
  {
   "cell_type": "code",
   "execution_count": 13,
   "outputs": [
    {
     "name": "stdout",
     "output_type": "stream",
     "text": [
      "CPU times: user 1 µs, sys: 0 ns, total: 1 µs\n",
      "Wall time: 5.96 µs\n"
     ]
    }
   ],
   "source": [
    "from merge_sort import merge_sort\n",
    "from merge_sort import merge\n",
    "import multiprocessing\n",
    "import math\n",
    "\n",
    "\n",
    "def parallel_merge_sort(arr: list[Number]) \\\n",
    "        -> list[Number]:\n",
    "    processes = multiprocessing.cpu_count()\n",
    "    pool = multiprocessing.Pool(processes = processes)\n",
    "    size = math.ceil(len(arr) / processes)\n",
    "    arr = [arr[i * size:(i + 1) * size] for i in range(processes)]\n",
    "    arr = pool.map(merge_sort, arr)\n",
    "    while len(arr) > 1:\n",
    "        extra = arr.pop() if len(arr) % 2 == 1 else None\n",
    "        arr = [[arr[i], arr[i + 1]] for i in range(0, len(arr), 2)]\n",
    "        arr = pool.map(merge, arr) + ([extra] if extra else [])\n",
    "    return arr[0]\n",
    "\n",
    "\n",
    "def test_parallel_merge_sort():\n",
    "    input_array = [randint(1, 100) for _ in range(10 ** 5)]\n",
    "    parallel_merge_sort(input_array)\n",
    "\n",
    "\n",
    "test_parallel_merge_sort()"
   ],
   "metadata": {
    "collapsed": false,
    "pycharm": {
     "name": "#%%\n"
    }
   }
  },
  {
   "cell_type": "code",
   "execution_count": 66,
   "outputs": [],
   "source": [],
   "metadata": {
    "collapsed": false,
    "pycharm": {
     "name": "#%%\n"
    }
   }
  },
  {
   "cell_type": "code",
   "execution_count": null,
   "outputs": [],
   "source": [],
   "metadata": {
    "collapsed": false,
    "pycharm": {
     "name": "#%%\n"
    }
   }
  }
 ],
 "metadata": {
  "kernelspec": {
   "display_name": "Python 3",
   "language": "python",
   "name": "python3"
  },
  "language_info": {
   "codemirror_mode": {
    "name": "ipython",
    "version": 2
   },
   "file_extension": ".py",
   "mimetype": "text/x-python",
   "name": "python",
   "nbconvert_exporter": "python",
   "pygments_lexer": "ipython2",
   "version": "2.7.6"
  }
 },
 "nbformat": 4,
 "nbformat_minor": 0
}